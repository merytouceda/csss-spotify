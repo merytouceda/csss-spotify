{
 "cells": [
  {
   "cell_type": "code",
   "execution_count": 1,
   "id": "comfortable-thinking",
   "metadata": {},
   "outputs": [
    {
     "name": "stdout",
     "output_type": "stream",
     "text": [
      "Defaulting to user installation because normal site-packages is not writeable\n",
      "Requirement already satisfied: spotipy in /Users/benhosken/Library/Python/3.8/lib/python/site-packages (2.20.0)\n",
      "Requirement already satisfied: six>=1.15.0 in /Library/Developer/CommandLineTools/Library/Frameworks/Python3.framework/Versions/3.8/lib/python3.8/site-packages (from spotipy) (1.15.0)\n",
      "Requirement already satisfied: redis>=3.5.3 in /Users/benhosken/Library/Python/3.8/lib/python/site-packages (from spotipy) (4.3.3)\n",
      "Requirement already satisfied: urllib3>=1.26.0 in /Users/benhosken/Library/Python/3.8/lib/python/site-packages (from spotipy) (1.26.7)\n",
      "Requirement already satisfied: requests>=2.25.0 in /Users/benhosken/Library/Python/3.8/lib/python/site-packages (from spotipy) (2.25.1)\n",
      "Requirement already satisfied: packaging>=20.4 in /Users/benhosken/Library/Python/3.8/lib/python/site-packages (from redis>=3.5.3->spotipy) (20.8)\n",
      "Requirement already satisfied: deprecated>=1.2.3 in /Users/benhosken/Library/Python/3.8/lib/python/site-packages (from redis>=3.5.3->spotipy) (1.2.13)\n",
      "Requirement already satisfied: async-timeout>=4.0.2 in /Users/benhosken/Library/Python/3.8/lib/python/site-packages (from redis>=3.5.3->spotipy) (4.0.2)\n",
      "Requirement already satisfied: idna<3,>=2.5 in /Users/benhosken/Library/Python/3.8/lib/python/site-packages (from requests>=2.25.0->spotipy) (2.10)\n",
      "Requirement already satisfied: certifi>=2017.4.17 in /Users/benhosken/Library/Python/3.8/lib/python/site-packages (from requests>=2.25.0->spotipy) (2020.12.5)\n",
      "Requirement already satisfied: chardet<5,>=3.0.2 in /Users/benhosken/Library/Python/3.8/lib/python/site-packages (from requests>=2.25.0->spotipy) (4.0.0)\n",
      "Requirement already satisfied: wrapt<2,>=1.10 in /Users/benhosken/Library/Python/3.8/lib/python/site-packages (from deprecated>=1.2.3->redis>=3.5.3->spotipy) (1.14.1)\n",
      "Requirement already satisfied: pyparsing>=2.0.2 in /Users/benhosken/Library/Python/3.8/lib/python/site-packages (from packaging>=20.4->redis>=3.5.3->spotipy) (2.4.7)\n",
      "Defaulting to user installation because normal site-packages is not writeable\n",
      "Requirement already satisfied: seaborn in /Users/benhosken/Library/Python/3.8/lib/python/site-packages (0.11.2)\n",
      "Requirement already satisfied: matplotlib>=2.2 in /Users/benhosken/Library/Python/3.8/lib/python/site-packages (from seaborn) (3.3.3)\n",
      "Requirement already satisfied: numpy>=1.15 in /Users/benhosken/Library/Python/3.8/lib/python/site-packages (from seaborn) (1.22.4)\n",
      "Requirement already satisfied: scipy>=1.0 in /Users/benhosken/Library/Python/3.8/lib/python/site-packages (from seaborn) (1.8.0)\n",
      "Requirement already satisfied: pandas>=0.23 in /Users/benhosken/Library/Python/3.8/lib/python/site-packages (from seaborn) (1.2.0)\n",
      "Requirement already satisfied: pyparsing!=2.0.4,!=2.1.2,!=2.1.6,>=2.0.3 in /Users/benhosken/Library/Python/3.8/lib/python/site-packages (from matplotlib>=2.2->seaborn) (2.4.7)\n",
      "Requirement already satisfied: kiwisolver>=1.0.1 in /Users/benhosken/Library/Python/3.8/lib/python/site-packages (from matplotlib>=2.2->seaborn) (1.3.1)\n",
      "Requirement already satisfied: cycler>=0.10 in /Users/benhosken/Library/Python/3.8/lib/python/site-packages (from matplotlib>=2.2->seaborn) (0.10.0)\n",
      "Requirement already satisfied: pillow>=6.2.0 in /Users/benhosken/Library/Python/3.8/lib/python/site-packages (from matplotlib>=2.2->seaborn) (8.1.0)\n",
      "Requirement already satisfied: python-dateutil>=2.1 in /Users/benhosken/Library/Python/3.8/lib/python/site-packages (from matplotlib>=2.2->seaborn) (2.8.1)\n",
      "Requirement already satisfied: pytz>=2017.3 in /Users/benhosken/Library/Python/3.8/lib/python/site-packages (from pandas>=0.23->seaborn) (2020.5)\n",
      "Requirement already satisfied: six in /Library/Developer/CommandLineTools/Library/Frameworks/Python3.framework/Versions/3.8/lib/python3.8/site-packages (from cycler>=0.10->matplotlib>=2.2->seaborn) (1.15.0)\n",
      "Defaulting to user installation because normal site-packages is not writeable\n",
      "Requirement already satisfied: pandas in /Users/benhosken/Library/Python/3.8/lib/python/site-packages (1.2.0)\n",
      "Requirement already satisfied: numpy>=1.16.5 in /Users/benhosken/Library/Python/3.8/lib/python/site-packages (from pandas) (1.22.4)\n",
      "Requirement already satisfied: pytz>=2017.3 in /Users/benhosken/Library/Python/3.8/lib/python/site-packages (from pandas) (2020.5)\n",
      "Requirement already satisfied: python-dateutil>=2.7.3 in /Users/benhosken/Library/Python/3.8/lib/python/site-packages (from pandas) (2.8.1)\n",
      "Requirement already satisfied: six>=1.5 in /Library/Developer/CommandLineTools/Library/Frameworks/Python3.framework/Versions/3.8/lib/python3.8/site-packages (from python-dateutil>=2.7.3->pandas) (1.15.0)\n",
      "Defaulting to user installation because normal site-packages is not writeable\n",
      "Requirement already satisfied: matplotlib in /Users/benhosken/Library/Python/3.8/lib/python/site-packages (3.3.3)\n",
      "Requirement already satisfied: pyparsing!=2.0.4,!=2.1.2,!=2.1.6,>=2.0.3 in /Users/benhosken/Library/Python/3.8/lib/python/site-packages (from matplotlib) (2.4.7)\n",
      "Requirement already satisfied: python-dateutil>=2.1 in /Users/benhosken/Library/Python/3.8/lib/python/site-packages (from matplotlib) (2.8.1)\n",
      "Requirement already satisfied: cycler>=0.10 in /Users/benhosken/Library/Python/3.8/lib/python/site-packages (from matplotlib) (0.10.0)\n",
      "Requirement already satisfied: kiwisolver>=1.0.1 in /Users/benhosken/Library/Python/3.8/lib/python/site-packages (from matplotlib) (1.3.1)\n",
      "Requirement already satisfied: numpy>=1.15 in /Users/benhosken/Library/Python/3.8/lib/python/site-packages (from matplotlib) (1.22.4)\n",
      "Requirement already satisfied: pillow>=6.2.0 in /Users/benhosken/Library/Python/3.8/lib/python/site-packages (from matplotlib) (8.1.0)\n",
      "Requirement already satisfied: six in /Library/Developer/CommandLineTools/Library/Frameworks/Python3.framework/Versions/3.8/lib/python3.8/site-packages (from cycler>=0.10->matplotlib) (1.15.0)\n"
     ]
    }
   ],
   "source": [
    "# install dependencies\n",
    "!pip install spotipy\n",
    "!pip install seaborn\n",
    "!pip install pandas\n",
    "!pip install matplotlib"
   ]
  },
  {
   "cell_type": "code",
   "execution_count": 2,
   "id": "social-yield",
   "metadata": {},
   "outputs": [],
   "source": [
    "# imports\n",
    "import spotipy\n",
    "from spotipy.oauth2 import SpotifyClientCredentials\n",
    "\n",
    "import pandas as pd\n",
    "\n",
    "import matplotlib.pyplot as plt\n",
    "import seaborn as sns"
   ]
  },
  {
   "cell_type": "code",
   "execution_count": 12,
   "id": "material-straight",
   "metadata": {},
   "outputs": [
    {
     "name": "stdout",
     "output_type": "stream",
     "text": [
      "env: SPOTIPY_CLIENT_ID=dac9c636e3d341beaafb2960706c51c4\n",
      "env: SPOTIPY_CLIENT_SECRET=2fdf9eb4d4744b1787a2cf069f6dd650\n"
     ]
    }
   ],
   "source": [
    "# set env vars for access keys\n",
    "%env SPOTIPY_CLIENT_ID=dac9c636e3d341beaafb2960706c51c4\n",
    "%env SPOTIPY_CLIENT_SECRET=2fdf9eb4d4744b1787a2cf069f6dd650"
   ]
  },
  {
   "cell_type": "code",
   "execution_count": 13,
   "id": "controlled-stuff",
   "metadata": {},
   "outputs": [
    {
     "data": {
      "text/plain": [
       "<spotipy.client.Spotify at 0x16a27b070>"
      ]
     },
     "execution_count": 13,
     "metadata": {},
     "output_type": "execute_result"
    }
   ],
   "source": [
    "# authenticate and connect to spotify\n",
    "auth_manager = SpotifyClientCredentials()\n",
    "sp = spotipy.Spotify(auth_manager=auth_manager)\n",
    "sp"
   ]
  },
  {
   "cell_type": "code",
   "execution_count": 14,
   "id": "accepting-signal",
   "metadata": {},
   "outputs": [],
   "source": [
    "# set the playlist id for playlist of interest\n",
    "\n",
    "# in this case the spotify pride classics playlist\n",
    "# https://open.spotify.com/playlist/37i9dQZF1DX59HcpGmPXYR?si=339e244b8a034120\n",
    "playlist_id = \"37i9dQZF1DX59HcpGmPXYR\""
   ]
  },
  {
   "cell_type": "code",
   "execution_count": 15,
   "id": "later-yemen",
   "metadata": {},
   "outputs": [
    {
     "data": {
      "text/plain": [
       "'Pride Classics'"
      ]
     },
     "execution_count": 15,
     "metadata": {},
     "output_type": "execute_result"
    }
   ],
   "source": [
    "# get the playlist\n",
    "playlist = sp.playlist(playlist_id)\n",
    "playlist[\"name\"]"
   ]
  },
  {
   "cell_type": "code",
   "execution_count": 169,
   "id": "beautiful-paragraph",
   "metadata": {},
   "outputs": [
    {
     "data": {
      "text/plain": [
       "acousticness        60\n",
       "analysis_url        60\n",
       "danceability        60\n",
       "duration_ms         60\n",
       "energy              60\n",
       "id                  60\n",
       "instrumentalness    60\n",
       "key                 60\n",
       "liveness            60\n",
       "loudness            60\n",
       "mode                60\n",
       "name                60\n",
       "speechiness         60\n",
       "tempo               60\n",
       "time_signature      60\n",
       "track_href          60\n",
       "type                60\n",
       "uri                 60\n",
       "valence             60\n",
       "dtype: int64"
      ]
     },
     "execution_count": 169,
     "metadata": {},
     "output_type": "execute_result"
    }
   ],
   "source": []
  },
  {
   "cell_type": "code",
   "execution_count": 106,
   "id": "eastern-butler",
   "metadata": {},
   "outputs": [
    {
     "name": "stdout",
     "output_type": "stream",
     "text": [
      "Rain On Me (with Ariana Grande) by Lady Gaga\n",
      "You Make Me Feel (Mighty Real) by Sylvester\n",
      "I Want To Break Free by Queen\n",
      "Coconuts by Kim Petras\n",
      "LUCID by Rina Sawayama\n",
      "Levitating by Dua Lipa\n",
      "Cool for the Summer by Demi Lovato\n",
      "I'm Coming Out by Diana Ross\n",
      "How to Be a Heartbreaker by MARINA\n",
      "Dancing Queen by ABBA\n",
      "Beg For You (feat. Rina Sawayama) by Charli XCX\n",
      "Prisoner (feat. Dua Lipa) by Miley Cyrus\n",
      "Born This Way by Lady Gaga\n",
      "Heart to Break by Kim Petras\n",
      "I Know A Place by MUNA\n",
      "Into You by Ariana Grande\n",
      "Hallucinate by Dua Lipa\n",
      "Run Away With Me by Carly Rae Jepsen\n",
      "Big Energy by Latto\n",
      "Black Magic by Little Mix\n",
      "Dancing On My Own by Robyn\n",
      "MONTERO (Call Me By Your Name) by Lil Nas X\n",
      "Bloom by Troye Sivan\n",
      "Make Me Feel by Janelle Monáe\n",
      "SloMo - Eurovision's Dancebreak Edit by Chanel\n",
      "I'm Every Woman by Chaka Khan\n",
      "Cut To The Feeling by Carly Rae Jepsen\n",
      "Express Yourself by Madonna\n",
      "Supermodel (You Better Work) by RuPaul\n",
      "Nails, Hair, Hips, Heels by Todrick Hall\n",
      "Break Free by Ariana Grande\n",
      "Closer by Tegan and Sara\n",
      "Kings & Queens by Ava Max\n",
      "INDUSTRY BABY (feat. Jack Harlow) by Lil Nas X\n",
      "Vogue by Madonna\n",
      "Boys by Lizzo\n",
      "Don't Go Breaking My Heart by Elton John\n",
      "Raise Your Glass by P!nk\n",
      "Strangers by Halsey\n",
      "Got to Be Real by Cheryl Lynn\n",
      "Wannabe by Spice Girls\n",
      "Grace Kelly by MIKA\n",
      "Sissy That Walk by RuPaul\n",
      "Your Disco Needs You by Kylie Minogue\n",
      "Hung Up by Madonna\n",
      "Finally by CeCe Peniston\n",
      "Let's Have A Kiki by Scissor Sisters\n",
      "Work Bitch by Britney Spears\n",
      "Gimme! Gimme! Gimme! (A Man After Midnight) by Cher\n",
      "Deceptacon by Le Tigre\n",
      "Walking on Broken Glass by Annie Lennox\n",
      "I’m Ready (with Demi Lovato) by Sam Smith\n",
      "Tell It to My Heart by Taylor Dayne\n",
      "Feels Like I'm In Love - Original Radio Mix by Kelly Marie\n",
      "Believe by Cher\n",
      "Crucified by Army Of Lovers\n",
      "I Will Survive - Single Version by Gloria Gaynor\n",
      "Freedom! '90 by George Michael\n",
      "Tom's Diner by Suzanne Vega\n",
      "Together Again by Janet Jackson\n"
     ]
    }
   ],
   "source": [
    "# create a pandas dataframe for the track details\n",
    "df = pd.DataFrame()\n",
    "\n",
    "# push each of the tracks into the pandas dataframe\n",
    "for track_item in playlist[\"tracks\"][\"items\"]:\n",
    "    track = track_item[\"track\"]\n",
    "#     print(track)\n",
    "    print(track[\"name\"] + \" by \" + track[\"artists\"][0][\"name\"] )\n",
    "    # get the audio features of the track\n",
    "    audio_features = sp.audio_features(track[\"id\"])[0]\n",
    "#     print(audio_features)\n",
    "    audio_features[\"name\"] = track[\"name\"] + \" by \" + track[\"artists\"][0][\"name\"]\n",
    "    df = df.append(audio_features, ignore_index=True)\n"
   ]
  },
  {
   "cell_type": "code",
   "execution_count": 160,
   "id": "regular-threshold",
   "metadata": {},
   "outputs": [
    {
     "data": {
      "text/html": [
       "<div>\n",
       "<style scoped>\n",
       "    .dataframe tbody tr th:only-of-type {\n",
       "        vertical-align: middle;\n",
       "    }\n",
       "\n",
       "    .dataframe tbody tr th {\n",
       "        vertical-align: top;\n",
       "    }\n",
       "\n",
       "    .dataframe thead th {\n",
       "        text-align: right;\n",
       "    }\n",
       "</style>\n",
       "<table border=\"1\" class=\"dataframe\">\n",
       "  <thead>\n",
       "    <tr style=\"text-align: right;\">\n",
       "      <th></th>\n",
       "      <th>name</th>\n",
       "      <th>cols</th>\n",
       "      <th>vals</th>\n",
       "    </tr>\n",
       "  </thead>\n",
       "  <tbody>\n",
       "    <tr>\n",
       "      <th>0</th>\n",
       "      <td>Rain On Me (with Ariana Grande) by Lady Gaga</td>\n",
       "      <td>acousticness</td>\n",
       "      <td>0.0210</td>\n",
       "    </tr>\n",
       "    <tr>\n",
       "      <th>1</th>\n",
       "      <td>You Make Me Feel (Mighty Real) by Sylvester</td>\n",
       "      <td>acousticness</td>\n",
       "      <td>0.0455</td>\n",
       "    </tr>\n",
       "    <tr>\n",
       "      <th>2</th>\n",
       "      <td>I Want To Break Free by Queen</td>\n",
       "      <td>acousticness</td>\n",
       "      <td>0.0478</td>\n",
       "    </tr>\n",
       "    <tr>\n",
       "      <th>3</th>\n",
       "      <td>Coconuts by Kim Petras</td>\n",
       "      <td>acousticness</td>\n",
       "      <td>0.0139</td>\n",
       "    </tr>\n",
       "    <tr>\n",
       "      <th>4</th>\n",
       "      <td>LUCID by Rina Sawayama</td>\n",
       "      <td>acousticness</td>\n",
       "      <td>0.0146</td>\n",
       "    </tr>\n",
       "    <tr>\n",
       "      <th>...</th>\n",
       "      <td>...</td>\n",
       "      <td>...</td>\n",
       "      <td>...</td>\n",
       "    </tr>\n",
       "    <tr>\n",
       "      <th>475</th>\n",
       "      <td>Crucified by Army Of Lovers</td>\n",
       "      <td>valence</td>\n",
       "      <td>0.4690</td>\n",
       "    </tr>\n",
       "    <tr>\n",
       "      <th>476</th>\n",
       "      <td>I Will Survive - Single Version by Gloria Gaynor</td>\n",
       "      <td>valence</td>\n",
       "      <td>0.5290</td>\n",
       "    </tr>\n",
       "    <tr>\n",
       "      <th>477</th>\n",
       "      <td>Freedom! '90 by George Michael</td>\n",
       "      <td>valence</td>\n",
       "      <td>0.8170</td>\n",
       "    </tr>\n",
       "    <tr>\n",
       "      <th>478</th>\n",
       "      <td>Tom's Diner by Suzanne Vega</td>\n",
       "      <td>valence</td>\n",
       "      <td>0.7250</td>\n",
       "    </tr>\n",
       "    <tr>\n",
       "      <th>479</th>\n",
       "      <td>Together Again by Janet Jackson</td>\n",
       "      <td>valence</td>\n",
       "      <td>0.4950</td>\n",
       "    </tr>\n",
       "  </tbody>\n",
       "</table>\n",
       "<p>480 rows × 3 columns</p>\n",
       "</div>"
      ],
      "text/plain": [
       "                                                 name          cols    vals\n",
       "0        Rain On Me (with Ariana Grande) by Lady Gaga  acousticness  0.0210\n",
       "1         You Make Me Feel (Mighty Real) by Sylvester  acousticness  0.0455\n",
       "2                       I Want To Break Free by Queen  acousticness  0.0478\n",
       "3                              Coconuts by Kim Petras  acousticness  0.0139\n",
       "4                              LUCID by Rina Sawayama  acousticness  0.0146\n",
       "..                                                ...           ...     ...\n",
       "475                       Crucified by Army Of Lovers       valence  0.4690\n",
       "476  I Will Survive - Single Version by Gloria Gaynor       valence  0.5290\n",
       "477                    Freedom! '90 by George Michael       valence  0.8170\n",
       "478                       Tom's Diner by Suzanne Vega       valence  0.7250\n",
       "479                   Together Again by Janet Jackson       valence  0.4950\n",
       "\n",
       "[480 rows x 3 columns]"
      ]
     },
     "execution_count": 160,
     "metadata": {},
     "output_type": "execute_result"
    }
   ],
   "source": [
    "# normalise the values to 0 - 1\n",
    "df['tempo'] = df['tempo'] / df['tempo'].max() # nromalise \n",
    "df['key'] = df['key'] / df['key'].max()\n",
    "df['loudness'] = (df['loudness'] + df['loudness'].min()) / df['loudness'].max()\n",
    "# convert to long (tidy) form\n",
    "dfm = df[['name', 'acousticness', 'danceability', 'energy', 'key', 'liveness', 'mode', 'tempo', 'valence']].melt('name', var_name='cols', value_name='vals')\n",
    "dfm"
   ]
  },
  {
   "cell_type": "code",
   "execution_count": 167,
   "id": "available-column",
   "metadata": {},
   "outputs": [
    {
     "name": "stderr",
     "output_type": "stream",
     "text": [
      "/Users/benhosken/Library/Python/3.8/lib/python/site-packages/seaborn/categorical.py:1296: UserWarning: 8.3% of the points cannot be placed; you may want to decrease the size of the markers or use stripplot.\n",
      "  warnings.warn(msg, UserWarning)\n",
      "/Users/benhosken/Library/Python/3.8/lib/python/site-packages/seaborn/categorical.py:1296: UserWarning: 56.7% of the points cannot be placed; you may want to decrease the size of the markers or use stripplot.\n",
      "  warnings.warn(msg, UserWarning)\n"
     ]
    },
    {
     "data": {
      "image/png": "[encoded data removed]",
      "text/plain": [
       "<Figure size 842.4x595.44 with 1 Axes>"
      ]
     },
     "metadata": {},
     "output_type": "display_data"
    }
   ],
   "source": [
    "# Rough plot of the attributes\n",
    "sns.set_theme(style='white')\n",
    "g = sns.swarmplot(x=\"cols\", y=\"vals\", hue='name', data=dfm)\n",
    "g.legend_.remove()\n"
   ]
  },
  {
   "cell_type": "code",
   "execution_count": 23,
   "id": "taken-specific",
   "metadata": {},
   "outputs": [
    {
     "data": {
      "text/plain": [
       "['Skating',\n",
       " 'Pure Binaural Beats – Binaural Beats Collection',\n",
       " 'Synthwave',\n",
       " 'Sleep-PL',\n",
       " 'Hyp sleep',\n",
       " 'Spaceykacey',\n",
       " '2020 top songs',\n",
       " 'Skee Mask – Compro',\n",
       " 'M People – Elegant Slumming',\n",
       " 'Trinity Affirmations – Stop Talking to Yourself Affirmations',\n",
       " 'Mark Ronson – Late Night Feelings',\n",
       " 'Hypnosis',\n",
       " 'Hamilton',\n",
       " 'Khalid – Free Spirit',\n",
       " 'Jóhann Jóhannsson – IBM 1401 A User’s Manual',\n",
       " 'hawaii',\n",
       " 'The Cranberries – Stars: The Best Of The Cranberries 1992-2002',\n",
       " 'offline',\n",
       " 'Empire of the Sun: Walking On A Dream 10th Anniversary',\n",
       " 'Get Down Its Saturday Night',\n",
       " 'St. Lucia Essentials',\n",
       " 'modern italiodisco',\n",
       " 'SHELTER LIVE TOUR',\n",
       " 'R.E.M. – Automatic For The People',\n",
       " 'This Is Empire of the Sun',\n",
       " 'High And Low temp',\n",
       " 'Binaural study beats',\n",
       " 'euphoric',\n",
       " 'The Office Stereo',\n",
       " 'This Is George Michael',\n",
       " 'Christmas BBQ',\n",
       " 'Best songs ever',\n",
       " 'Marconi Union – Weightless (Ambient Transmission Vol. 2)',\n",
       " 'Season 3',\n",
       " 'Sufjan Stevens – Carrie & Lowell',\n",
       " 'hypnosis',\n",
       " 'My Shazam Tracks',\n",
       " 'local',\n",
       " 'Just Chill',\n",
       " 'BLACKLIST',\n",
       " 'Soul Radio',\n",
       " 'Pet Shop Boys – Super',\n",
       " 'Doris Day – Doris Day - The Classic Christmas Album',\n",
       " 'chill',\n",
       " 'Shuggie Otis – Live in Williamsburg',\n",
       " 'Oskar working playlist',\n",
       " 'Party Hits',\n",
       " 'Peter Gabriel – So',\n",
       " 'Belinda Carlisle – The Very Best of Belinda Carlisle',\n",
       " 'Ex Machina (Original Motion Picture Soundtrack)']"
      ]
     },
     "execution_count": 23,
     "metadata": {},
     "output_type": "execute_result"
    }
   ],
   "source": [
    "[pl[\"name\"] for pl in sp.user_playlists(1230944528)[\"items\"]]\n"
   ]
  },
  {
   "cell_type": "code",
   "execution_count": null,
   "id": "exact-father",
   "metadata": {},
   "outputs": [],
   "source": []
  }
 ],
 "metadata": {
  "kernelspec": {
   "display_name": "Python 3",
   "language": "python",
   "name": "python3"
  },
  "language_info": {
   "codemirror_mode": {
    "name": "ipython",
    "version": 3
   },
   "file_extension": ".py",
   "mimetype": "text/x-python",
   "name": "python",
   "nbconvert_exporter": "python",
   "pygments_lexer": "ipython3",
   "version": "3.8.9"
  }
 },
 "nbformat": 4,
 "nbformat_minor": 5
}
